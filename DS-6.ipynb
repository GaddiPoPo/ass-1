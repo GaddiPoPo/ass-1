{
 "cells": [
  {
   "cell_type": "code",
   "execution_count": 1,
   "id": "14aebeda-7df4-48f7-85d5-6dfac1368b84",
   "metadata": {},
   "outputs": [],
   "source": [
    "#q1\n",
    "l=[2,4,5,6,7]\n"
   ]
  },
  {
   "cell_type": "code",
   "execution_count": 2,
   "id": "ffa28137-5a04-4d02-bbcd-be48e5d74cfa",
   "metadata": {},
   "outputs": [
    {
     "name": "stdout",
     "output_type": "stream",
     "text": [
      "2\n",
      "4\n",
      "5\n",
      "6\n",
      "7\n"
     ]
    }
   ],
   "source": [
    "for i in l:\n",
    "    print(i)"
   ]
  },
  {
   "cell_type": "code",
   "execution_count": 3,
   "id": "1c699f0c-c40f-4a75-9371-0284bd4c3a85",
   "metadata": {},
   "outputs": [
    {
     "name": "stdout",
     "output_type": "stream",
     "text": [
      "0\n",
      "1\n",
      "2\n"
     ]
    }
   ],
   "source": [
    "#q1\n",
    "i=0\n",
    "while(i<3):\n",
    "    print(i)\n",
    "    i=i+1"
   ]
  },
  {
   "cell_type": "code",
   "execution_count": 4,
   "id": "0b538245-edab-4382-8a31-19e5fc6c2383",
   "metadata": {},
   "outputs": [],
   "source": [
    "#q2"
   ]
  },
  {
   "cell_type": "code",
   "execution_count": null,
   "id": "59059787-0a19-4fef-8af7-b6fbb878bf79",
   "metadata": {},
   "outputs": [],
   "source": [
    "sum = 0\n",
    "for i in range(1, 11):\n",
    "    sum += i\n",
    "print(\"Sum is\", sum)"
   ]
  },
  {
   "cell_type": "code",
   "execution_count": null,
   "id": "5165cfeb-fb49-4b2f-9018-211aa041673a",
   "metadata": {},
   "outputs": [],
   "source": [
    "mux = 1\n",
    "for i in range(1, 11):\n",
    "    mux*= i\n",
    "print(\"mux\", mux)"
   ]
  },
  {
   "cell_type": "code",
   "execution_count": null,
   "id": "c41d4020-b8ed-48ff-b5e7-efae11fd3f08",
   "metadata": {},
   "outputs": [],
   "source": [
    "# q3\n"
   ]
  },
  {
   "cell_type": "code",
   "execution_count": null,
   "id": "acce1009-e7c6-4f46-b9b8-ca7777bec7e1",
   "metadata": {},
   "outputs": [],
   "source": [
    "units = int(input(\" Please enter Number of Units : \\n\"))\n",
    "\n",
    "if (units <=100):\n",
    "    amount = units * 4.5\n",
    "elif(units<=200):\n",
    "    amount= 450+((units -100)*6)\n",
    "elif (units <= 300):\n",
    "    amount = 1050 + ((units - 200) * 10)\n",
    "else:\n",
    "    amount=2050+((units-300)*20)\n",
    "print(amount)"
   ]
  },
  {
   "cell_type": "code",
   "execution_count": null,
   "id": "c89f2d09-07d0-4b9a-ac62-e6d6b425e1bc",
   "metadata": {},
   "outputs": [],
   "source": [
    "#q5\n"
   ]
  },
  {
   "cell_type": "code",
   "execution_count": null,
   "id": "6e7b0976-4492-4310-968a-006a6124daab",
   "metadata": {},
   "outputs": [],
   "source": [
    "words=\"I want to become a data scientist\"\n",
    "vowels=\"aeiouAEIOU\"\n",
    "count=0\n",
    "for char in words:\n",
    "   if char in vowels:\n",
    "       count=count+1\n",
    "print(\"the number of vowels are\",count)"
   ]
  },
  {
   "cell_type": "code",
   "execution_count": null,
   "id": "8e97973c-ecdb-4609-997d-596a20284710",
   "metadata": {},
   "outputs": [],
   "source": [
    "#q4\n"
   ]
  },
  {
   "cell_type": "code",
   "execution_count": null,
   "id": "c3cfd126-7a3b-42bc-af06-0a80fe4677c5",
   "metadata": {},
   "outputs": [],
   "source": [
    "l1=list(range(1,101))\n",
    "l2=[]\n",
    "for i  in l1:\n",
    "    cube=i**3\n",
    "    if cube%4==0 or cube%5==0:\n",
    "        l2.append(i)\n",
    "print(l2)"
   ]
  }
 ],
 "metadata": {
  "kernelspec": {
   "display_name": "Python 3 (ipykernel)",
   "language": "python",
   "name": "python3"
  },
  "language_info": {
   "codemirror_mode": {
    "name": "ipython",
    "version": 3
   },
   "file_extension": ".py",
   "mimetype": "text/x-python",
   "name": "python",
   "nbconvert_exporter": "python",
   "pygments_lexer": "ipython3",
   "version": "3.10.8"
  }
 },
 "nbformat": 4,
 "nbformat_minor": 5
}

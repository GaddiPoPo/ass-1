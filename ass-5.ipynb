{
 "cells": [
  {
   "cell_type": "code",
   "execution_count": 1,
   "id": "6740e5e6-52af-40d3-8104-586d7ccac81e",
   "metadata": {},
   "outputs": [],
   "source": [
    "#q1"
   ]
  },
  {
   "cell_type": "code",
   "execution_count": 3,
   "id": "fcc25fd2-dd84-4043-9ce9-9e6fcf70249e",
   "metadata": {},
   "outputs": [],
   "source": [
    "# Guido van Rossum"
   ]
  },
  {
   "cell_type": "code",
   "execution_count": 4,
   "id": "cf5d0b5d-ff08-4323-a464-1ab6f6fa2dfc",
   "metadata": {},
   "outputs": [],
   "source": [
    "#q2"
   ]
  },
  {
   "cell_type": "code",
   "execution_count": 5,
   "id": "7515d4f8-aac1-4ead-b3b4-a5756a344546",
   "metadata": {},
   "outputs": [],
   "source": [
    "# Object-oriented programming"
   ]
  },
  {
   "cell_type": "code",
   "execution_count": 6,
   "id": "fbedeb15-b883-4747-944d-4b26a9152a3a",
   "metadata": {},
   "outputs": [],
   "source": [
    "#q-3"
   ]
  },
  {
   "cell_type": "code",
   "execution_count": 7,
   "id": "11d5d760-56af-4755-b87d-1fca0f12c364",
   "metadata": {},
   "outputs": [],
   "source": [
    "# Case is always significant while dealing with identifiers in python."
   ]
  },
  {
   "cell_type": "code",
   "execution_count": 8,
   "id": "c969b11c-48cb-47af-ba90-93c54c86f27f",
   "metadata": {},
   "outputs": [],
   "source": [
    "#q-4"
   ]
  },
  {
   "cell_type": "code",
   "execution_count": 9,
   "id": "c54582ff-a7af-4030-96f5-2e6cd60a42d2",
   "metadata": {},
   "outputs": [],
   "source": [
    "# py"
   ]
  },
  {
   "cell_type": "code",
   "execution_count": 10,
   "id": "43dd20ae-19b9-4344-8264-d27c3e716d90",
   "metadata": {},
   "outputs": [],
   "source": [
    "#q-5"
   ]
  },
  {
   "cell_type": "code",
   "execution_count": 11,
   "id": "863872a7-aab3-4d7c-8f69-03d5ea59f8d0",
   "metadata": {},
   "outputs": [],
   "source": [
    " # interpreted"
   ]
  },
  {
   "cell_type": "code",
   "execution_count": 12,
   "id": "6283c9f3-cb37-45bf-af81-ac7cb67c133b",
   "metadata": {},
   "outputs": [],
   "source": [
    "#q-6"
   ]
  },
  {
   "cell_type": "code",
   "execution_count": 13,
   "id": "8cdf776b-3bd6-433b-95b8-b96cce18ad9f",
   "metadata": {},
   "outputs": [],
   "source": [
    "# a module, a function body, and a class definition"
   ]
  },
  {
   "cell_type": "code",
   "execution_count": 14,
   "id": "d78725bf-5501-4d90-b64d-004b10926e08",
   "metadata": {},
   "outputs": [],
   "source": [
    "#q-7"
   ]
  },
  {
   "cell_type": "code",
   "execution_count": 15,
   "id": "54475eac-4ee9-4b85-b196-d15bee506acd",
   "metadata": {},
   "outputs": [],
   "source": [
    "# hash"
   ]
  },
  {
   "cell_type": "code",
   "execution_count": 16,
   "id": "a357839b-dd11-43fb-bb01-e6fcaf8ef0e1",
   "metadata": {},
   "outputs": [],
   "source": [
    "#q-8"
   ]
  },
  {
   "cell_type": "code",
   "execution_count": 17,
   "id": "fe37a9ff-c965-4923-bcef-87dcf426b121",
   "metadata": {},
   "outputs": [],
   "source": [
    "# python_version() function"
   ]
  },
  {
   "cell_type": "code",
   "execution_count": 18,
   "id": "5d92125b-294f-4f6d-8f0e-4cfe25496cee",
   "metadata": {},
   "outputs": [],
   "source": [
    "#q-9"
   ]
  },
  {
   "cell_type": "code",
   "execution_count": 19,
   "id": "169ca09e-642c-44da-8a19-a53890acb378",
   "metadata": {},
   "outputs": [],
   "source": [
    "# lambda"
   ]
  },
  {
   "cell_type": "code",
   "execution_count": 21,
   "id": "e1a2e2f8-b027-43c2-afee-d7f23faaf7dc",
   "metadata": {},
   "outputs": [],
   "source": [
    "#q-10"
   ]
  },
  {
   "cell_type": "code",
   "execution_count": 22,
   "id": "b7d8f530-02a0-4741-a5da-f0cb77719739",
   "metadata": {},
   "outputs": [],
   "source": [
    "# pip Install Packages"
   ]
  },
  {
   "cell_type": "code",
   "execution_count": 23,
   "id": "9ea3c15a-faed-455a-b0ff-eef7706da62a",
   "metadata": {},
   "outputs": [],
   "source": [
    "#q-11"
   ]
  },
  {
   "cell_type": "code",
   "execution_count": 25,
   "id": "cb372de2-584a-46de-ae9f-00882af6eef2",
   "metadata": {},
   "outputs": [],
   "source": [
    "# issubclass(),iter(),etc"
   ]
  },
  {
   "cell_type": "code",
   "execution_count": 26,
   "id": "91c83540-6294-4d5a-b469-004dc9c3e38a",
   "metadata": {},
   "outputs": [],
   "source": [
    "#q-12"
   ]
  },
  {
   "cell_type": "code",
   "execution_count": 27,
   "id": "04699c71-662d-4b71-b63e-b84cd433fd22",
   "metadata": {},
   "outputs": [],
   "source": [
    "# 79 "
   ]
  },
  {
   "cell_type": "code",
   "execution_count": 28,
   "id": "706d5804-f3fd-4f63-9f9f-3aa8f9b30e07",
   "metadata": {},
   "outputs": [],
   "source": [
    "# q-13"
   ]
  },
  {
   "cell_type": "code",
   "execution_count": 29,
   "id": "6980ac1c-6382-4480-997b-ee3c0c216bd9",
   "metadata": {},
   "outputs": [],
   "source": [
    "# Data science.\n",
    "# Scientific and mathematical computing.\n",
    "# Web development.\n",
    "# Finance and trading.\n",
    "# System automation and administration.\n",
    "# Computer graphics.\n",
    "# Basic game development.\n",
    "# Security and penetration testing."
   ]
  },
  {
   "cell_type": "code",
   "execution_count": 30,
   "id": "47d48acb-5c51-4963-98b7-96c31ed458fc",
   "metadata": {},
   "outputs": [],
   "source": [
    "#q-14"
   ]
  },
  {
   "cell_type": "code",
   "execution_count": 31,
   "id": "039d2a8d-5cc1-4c28-97c1-b2ffbc0468ee",
   "metadata": {},
   "outputs": [],
   "source": [
    "# Python uses a portion of the memory for internal use and non-object memory. Another part of the memory is used for Python object such as int, dict, list, etc. CPython contains the object allocator that allocates memory within the object area. The object allocator gets a call every time the new object needs space."
   ]
  },
  {
   "cell_type": "code",
   "execution_count": 33,
   "id": "7ce311ed-5035-4917-8466-c29ef278c4d9",
   "metadata": {},
   "outputs": [],
   "source": [
    "#q-16"
   ]
  },
  {
   "cell_type": "code",
   "execution_count": null,
   "id": "fd231cf0-d937-49e8-8bdb-34733db03df8",
   "metadata": {},
   "outputs": [],
   "source": [
    "# Indentation refers to the spaces at the beginning of a code line. Where in other programming languages the indentation in code is for readability only, the indentation in Python is very important. Python uses indentation to indicate a block of code."
   ]
  }
 ],
 "metadata": {
  "kernelspec": {
   "display_name": "Python 3 (ipykernel)",
   "language": "python",
   "name": "python3"
  },
  "language_info": {
   "codemirror_mode": {
    "name": "ipython",
    "version": 3
   },
   "file_extension": ".py",
   "mimetype": "text/x-python",
   "name": "python",
   "nbconvert_exporter": "python",
   "pygments_lexer": "ipython3",
   "version": "3.10.8"
  }
 },
 "nbformat": 4,
 "nbformat_minor": 5
}

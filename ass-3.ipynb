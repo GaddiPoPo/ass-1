{
 "cells": [
  {
   "cell_type": "code",
   "execution_count": 16,
   "id": "560499f4-0f42-4a56-9fc0-dabb771cde31",
   "metadata": {},
   "outputs": [],
   "source": [
    "#q1\n",
    "s=[('Sachin Tendulkar', 34357), ('Ricky Ponting', 27483), ('Jack Kallis', 25534), ('Virat Kohli', 24936)]\n"
   ]
  },
  {
   "cell_type": "code",
   "execution_count": 15,
   "id": "d2901443-6d2c-45fd-9c8c-6745a54d99ad",
   "metadata": {},
   "outputs": [
    {
     "data": {
      "text/plain": [
       "[('Virat Kohli', 24936),\n",
       " ('Jack Kallis', 25534),\n",
       " ('Ricky Ponting', 27483),\n",
       " ('Sachin Tendulkar', 34357)]"
      ]
     },
     "execution_count": 15,
     "metadata": {},
     "output_type": "execute_result"
    }
   ],
   "source": [
    "s.sort(key=lambda x:x[1])\n",
    "s"
   ]
  },
  {
   "cell_type": "code",
   "execution_count": 17,
   "id": "762548d5-d7d9-408b-bde8-b605d13d3230",
   "metadata": {},
   "outputs": [],
   "source": [
    "#q2"
   ]
  },
  {
   "cell_type": "code",
   "execution_count": 18,
   "id": "e7f6284f-0700-441a-9fd4-a79f1ba88e20",
   "metadata": {},
   "outputs": [],
   "source": [
    "k=[1, 2, 3, 4, 5, 6, 7, 8, 9, 10]"
   ]
  },
  {
   "cell_type": "code",
   "execution_count": 21,
   "id": "ae46fc42-32a3-44e2-853a-1d7419c2ad59",
   "metadata": {},
   "outputs": [
    {
     "data": {
      "text/plain": [
       "[1, 4, 9, 16, 25, 36, 49, 64, 81, 100]"
      ]
     },
     "execution_count": 21,
     "metadata": {},
     "output_type": "execute_result"
    }
   ],
   "source": [
    "list(map(lambda k:k**2,k))"
   ]
  },
  {
   "cell_type": "code",
   "execution_count": 22,
   "id": "01a23a35-bd81-4d9e-b4bd-d1c9148be7ca",
   "metadata": {},
   "outputs": [],
   "source": [
    "#q-3"
   ]
  },
  {
   "cell_type": "code",
   "execution_count": 23,
   "id": "7d658463-f9b5-4b51-8656-0c11766b469c",
   "metadata": {},
   "outputs": [],
   "source": [
    "j=[1, 2, 3, 4, 5, 6, 7, 8, 9, 10]"
   ]
  },
  {
   "cell_type": "code",
   "execution_count": 36,
   "id": "40797b1a-eefd-44bd-b1e8-a4ed47c6596d",
   "metadata": {},
   "outputs": [
    {
     "data": {
      "text/plain": [
       "['1', '2', '3', '4', '5', '6', '7', '8', '9', '10']"
      ]
     },
     "execution_count": 36,
     "metadata": {},
     "output_type": "execute_result"
    }
   ],
   "source": [
    "list(map(lambda j:str(j),j))"
   ]
  },
  {
   "cell_type": "code",
   "execution_count": 37,
   "id": "ae5ade70-12fc-4463-a1ef-ccc15faa1244",
   "metadata": {},
   "outputs": [],
   "source": [
    "#q-4"
   ]
  },
  {
   "cell_type": "code",
   "execution_count": 38,
   "id": "e6a751c7-cd69-4690-9ddb-083acab3a54d",
   "metadata": {},
   "outputs": [],
   "source": [
    "from functools import reduce"
   ]
  },
  {
   "cell_type": "code",
   "execution_count": 41,
   "id": "ae38e946-c4b0-4a60-a2c3-3a5a347731c8",
   "metadata": {},
   "outputs": [
    {
     "name": "stdout",
     "output_type": "stream",
     "text": [
      "[1, 2, 3, 4, 5, 6, 7, 8, 9, 10, 11, 12, 13, 14, 15, 16, 17, 18, 19, 20, 21, 22, 23, 24, 25]\n"
     ]
    }
   ],
   "source": [
    "x=range(1,26)\n",
    "print(list(x))"
   ]
  },
  {
   "cell_type": "code",
   "execution_count": 42,
   "id": "2d19aba9-ee19-455a-abb8-e78d53ec6531",
   "metadata": {},
   "outputs": [
    {
     "data": {
      "text/plain": [
       "15511210043330985984000000"
      ]
     },
     "execution_count": 42,
     "metadata": {},
     "output_type": "execute_result"
    }
   ],
   "source": [
    "reduce(lambda z,y:z*y,x)"
   ]
  },
  {
   "cell_type": "code",
   "execution_count": 43,
   "id": "201c9a02-615f-48b1-b6bc-7f39ec195763",
   "metadata": {},
   "outputs": [],
   "source": [
    "#q-5"
   ]
  },
  {
   "cell_type": "code",
   "execution_count": 44,
   "id": "a4d885e7-270c-4369-b666-0692832b882d",
   "metadata": {},
   "outputs": [],
   "source": [
    "a=[2, 3, 6, 9, 27, 60, 90, 120, 55, 46]"
   ]
  },
  {
   "cell_type": "code",
   "execution_count": 45,
   "id": "1752a94a-949e-4c62-b88b-ef45e05382f2",
   "metadata": {},
   "outputs": [
    {
     "data": {
      "text/plain": [
       "[6, 60, 90, 120]"
      ]
     },
     "execution_count": 45,
     "metadata": {},
     "output_type": "execute_result"
    }
   ],
   "source": [
    "list(filter(lambda a:a%2==0 and a%3==0,a))"
   ]
  },
  {
   "cell_type": "code",
   "execution_count": 46,
   "id": "e6b1e1b8-b397-43ae-9b5c-1642272d1197",
   "metadata": {},
   "outputs": [],
   "source": [
    "#q-6"
   ]
  },
  {
   "cell_type": "code",
   "execution_count": 47,
   "id": "4dbd2e08-86f7-450d-801c-65ed0e5c138f",
   "metadata": {},
   "outputs": [],
   "source": [
    "p=['python', 'php', 'aba', 'radar', 'level']"
   ]
  },
  {
   "cell_type": "code",
   "execution_count": 48,
   "id": "8de9e7df-b87a-4e80-a290-353115d4e8e9",
   "metadata": {},
   "outputs": [
    {
     "data": {
      "text/plain": [
       "['php', 'aba', 'radar', 'level']"
      ]
     },
     "execution_count": 48,
     "metadata": {},
     "output_type": "execute_result"
    }
   ],
   "source": [
    "result = list(filter(lambda x: (x == \"\".join(reversed(x))),p)) \n",
    "result"
   ]
  },
  {
   "cell_type": "code",
   "execution_count": null,
   "id": "14123562-529a-409d-9d80-cbc9a0d16b1a",
   "metadata": {},
   "outputs": [],
   "source": []
  }
 ],
 "metadata": {
  "kernelspec": {
   "display_name": "Python 3 (ipykernel)",
   "language": "python",
   "name": "python3"
  },
  "language_info": {
   "codemirror_mode": {
    "name": "ipython",
    "version": 3
   },
   "file_extension": ".py",
   "mimetype": "text/x-python",
   "name": "python",
   "nbconvert_exporter": "python",
   "pygments_lexer": "ipython3",
   "version": "3.10.8"
  }
 },
 "nbformat": 4,
 "nbformat_minor": 5
}

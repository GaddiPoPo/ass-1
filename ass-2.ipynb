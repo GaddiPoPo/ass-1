{
 "cells": [
  {
   "cell_type": "code",
   "execution_count": 1,
   "id": "c2afec7a-e5a4-46dd-9b2d-f1790b34e11b",
   "metadata": {},
   "outputs": [],
   "source": [
    "#q1"
   ]
  },
  {
   "cell_type": "code",
   "execution_count": 2,
   "id": "e8f89423-43e0-42d2-8160-6b31d53d2dcf",
   "metadata": {},
   "outputs": [],
   "source": [
    "# def keyword is used to create a function"
   ]
  },
  {
   "cell_type": "code",
   "execution_count": 20,
   "id": "f2c526b9-694c-45ac-aae7-118d35e17e5f",
   "metadata": {},
   "outputs": [],
   "source": [
    "def list():\n",
    "    l1=[]\n",
    "    for i in range(1,26,2):\n",
    "        l1.append(i)\n",
    "    return (l1)"
   ]
  },
  {
   "cell_type": "code",
   "execution_count": 21,
   "id": "93a281f1-7dac-4cbe-aa50-d226cb9fe6c4",
   "metadata": {},
   "outputs": [
    {
     "data": {
      "text/plain": [
       "[1, 3, 5, 7, 9, 11, 13, 15, 17, 19, 21, 23, 25]"
      ]
     },
     "execution_count": 21,
     "metadata": {},
     "output_type": "execute_result"
    }
   ],
   "source": [
    "list()"
   ]
  },
  {
   "cell_type": "code",
   "execution_count": 22,
   "id": "75251a81-5ef2-48e2-ae84-265c4b0ca32c",
   "metadata": {},
   "outputs": [],
   "source": [
    "#q2"
   ]
  },
  {
   "cell_type": "code",
   "execution_count": 24,
   "id": "21c18825-d77e-4feb-9c68-fb2929f2a7d9",
   "metadata": {},
   "outputs": [],
   "source": [
    "# *args is used to simply write a function by using or taking arguments as per user choice in form of tuple\n",
    "# **kwargs is used to simply write a function by using or taking arguments as per user choice in form of dictionary"
   ]
  },
  {
   "cell_type": "code",
   "execution_count": 26,
   "id": "e59344e5-f01c-4e7b-b23a-6951ad1fa817",
   "metadata": {},
   "outputs": [],
   "source": [
    "def test15(**kwargs):\n",
    "    return kwargs"
   ]
  },
  {
   "cell_type": "code",
   "execution_count": 31,
   "id": "aea2c736-269c-42c8-b4b4-bc11bbfd9fc1",
   "metadata": {},
   "outputs": [
    {
     "data": {
      "text/plain": [
       "dict"
      ]
     },
     "execution_count": 31,
     "metadata": {},
     "output_type": "execute_result"
    }
   ],
   "source": [
    "type(test15())"
   ]
  },
  {
   "cell_type": "code",
   "execution_count": 28,
   "id": "17efa13c-6f68-4dbc-8e5b-26da97ab1631",
   "metadata": {},
   "outputs": [],
   "source": [
    "def test16(*args):\n",
    "    return args"
   ]
  },
  {
   "cell_type": "code",
   "execution_count": 30,
   "id": "f7d59dd1-67c7-4133-88fc-0bafa65139f2",
   "metadata": {},
   "outputs": [
    {
     "data": {
      "text/plain": [
       "tuple"
      ]
     },
     "execution_count": 30,
     "metadata": {},
     "output_type": "execute_result"
    }
   ],
   "source": [
    "type(test16())"
   ]
  },
  {
   "cell_type": "code",
   "execution_count": 32,
   "id": "268e27a4-49bd-48dc-8cef-20155c985d94",
   "metadata": {},
   "outputs": [],
   "source": [
    "#q3"
   ]
  },
  {
   "cell_type": "code",
   "execution_count": 33,
   "id": "641b2053-960e-4152-9d5c-f95e39b5d398",
   "metadata": {},
   "outputs": [
    {
     "name": "stdout",
     "output_type": "stream",
     "text": [
      "2\n",
      "4\n",
      "6\n",
      "8\n",
      "10\n"
     ]
    }
   ],
   "source": [
    "# An iterator can be created from an iterable by using the function iter()\n",
    "list = [2, 4, 6, 8, 10, 12, 14, 16, 18, 20]\n",
    "\n",
    "iter = iter(list)\n",
    "\n",
    "for i in range(5):\n",
    "    print(next(iter))\n"
   ]
  },
  {
   "cell_type": "code",
   "execution_count": 35,
   "id": "b59b73a4-693e-4031-b3bd-cfe8bb374b77",
   "metadata": {},
   "outputs": [],
   "source": [
    "#q6"
   ]
  },
  {
   "cell_type": "code",
   "execution_count": 36,
   "id": "d728ac77-88c3-437f-8bfd-b14bf63416b6",
   "metadata": {},
   "outputs": [
    {
     "name": "stdin",
     "output_type": "stream",
     "text": [
      "enter the number 10\n"
     ]
    },
    {
     "name": "stdout",
     "output_type": "stream",
     "text": [
      "0\n",
      "1\n",
      "1\n",
      "2\n",
      "3\n",
      "5\n",
      "8\n",
      "13\n",
      "21\n",
      "34\n"
     ]
    }
   ],
   "source": [
    "k=int(input(\"enter the number\"))\n",
    "a,b=0,1\n",
    "counter=0\n",
    "while counter<k:\n",
    "    print(a)\n",
    "    c=a+b\n",
    "    a=b\n",
    "    b=c\n",
    "    counter=counter+1"
   ]
  },
  {
   "cell_type": "code",
   "execution_count": 1,
   "id": "ce8f2b0d-157c-4a6d-a232-80d35de8c5b4",
   "metadata": {},
   "outputs": [],
   "source": [
    "#q-7"
   ]
  },
  {
   "cell_type": "code",
   "execution_count": 8,
   "id": "b1e1d49d-f15b-4048-9ef0-f9fb17afebb3",
   "metadata": {},
   "outputs": [
    {
     "data": {
      "text/plain": [
       "['p', 'w', 's', 'k', 'i', 'l', 'l', 's']"
      ]
     },
     "execution_count": 8,
     "metadata": {},
     "output_type": "execute_result"
    }
   ],
   "source": [
    "s=\"pwskills\"\n",
    "list(map(lambda s:s.lower(), s))"
   ]
  },
  {
   "cell_type": "code",
   "execution_count": 9,
   "id": "f7891e48-6fe9-4f31-bb87-ee1411c9472a",
   "metadata": {},
   "outputs": [],
   "source": [
    "#q-4"
   ]
  },
  {
   "cell_type": "code",
   "execution_count": 10,
   "id": "2edcdb8f-38b4-426f-a410-0390d0b4fdd6",
   "metadata": {},
   "outputs": [],
   "source": [
    "# Generator functions are a special kind of function that return a lazy iterator called a generator iterator. These are objects that you can loop over like a list. However, unlike lists, lazy iterators do not store their contents in memory."
   ]
  },
  {
   "cell_type": "code",
   "execution_count": 12,
   "id": "45a52fce-b59c-4d4e-9c6c-d4192d77e56b",
   "metadata": {},
   "outputs": [],
   "source": [
    "# The yield keyword in Python controls the flow of a generator function. This is similar to a return statement used for returning values in Python. However, there is a difference\n",
    "# \n",
    "# When you call a function that has a yield statement, as soon as a yield is encountered, the execution of the function halts and returns a generator iterator object instead of simply returning a value. The state of the function, which includes variable bindings, the instruction pointer, the internal stack, and a few other things, is saved."
   ]
  },
  {
   "cell_type": "code",
   "execution_count": 13,
   "id": "43eedd84-7fd4-4800-88ae-53283c2845f1",
   "metadata": {},
   "outputs": [],
   "source": [
    "#example\n",
    "def test1():\n",
    "    a,b=0,1\n",
    "    while True:\n",
    "        yield a\n",
    "        a,b = b,a+b"
   ]
  },
  {
   "cell_type": "code",
   "execution_count": 14,
   "id": "9669e5c7-341d-4b80-8079-a18f0def9ae6",
   "metadata": {},
   "outputs": [],
   "source": [
    "fib = test1()"
   ]
  },
  {
   "cell_type": "code",
   "execution_count": 15,
   "id": "1c63561e-b45b-40d5-9e51-643332b5752e",
   "metadata": {},
   "outputs": [
    {
     "name": "stdout",
     "output_type": "stream",
     "text": [
      "0\n",
      "1\n",
      "1\n",
      "2\n",
      "3\n",
      "5\n",
      "8\n",
      "13\n",
      "21\n",
      "34\n"
     ]
    }
   ],
   "source": [
    "for i in range(10):\n",
    "    print(next(fib))"
   ]
  },
  {
   "cell_type": "code",
   "execution_count": 16,
   "id": "1edc8285-c3a6-40b4-8b62-1d1ecc6f104d",
   "metadata": {},
   "outputs": [],
   "source": [
    "#q5"
   ]
  },
  {
   "cell_type": "code",
   "execution_count": 32,
   "id": "f6e75b58-2fcb-4c34-978a-86b69a62c089",
   "metadata": {},
   "outputs": [
    {
     "name": "stdout",
     "output_type": "stream",
     "text": [
      "1 is a prime number\n",
      "2 is a prime number\n",
      "3 is a prime number\n",
      "5 is a prime number\n",
      "7 is a prime number\n",
      "11 is a prime number\n",
      "13 is a prime number\n",
      "17 is a prime number\n",
      "19 is a prime number\n",
      "23 is a prime number\n",
      "29 is a prime number\n",
      "31 is a prime number\n",
      "37 is a prime number\n",
      "41 is a prime number\n",
      "43 is a prime number\n",
      "47 is a prime number\n",
      "53 is a prime number\n",
      "59 is a prime number\n",
      "61 is a prime number\n",
      "67 is a prime number\n",
      "71 is a prime number\n",
      "73 is a prime number\n",
      "79 is a prime number\n",
      "83 is a prime number\n",
      "89 is a prime number\n",
      "97 is a prime number\n",
      "101 is a prime number\n",
      "103 is a prime number\n",
      "107 is a prime number\n",
      "109 is a prime number\n",
      "113 is a prime number\n",
      "127 is a prime number\n",
      "131 is a prime number\n",
      "137 is a prime number\n",
      "139 is a prime number\n",
      "149 is a prime number\n",
      "151 is a prime number\n",
      "157 is a prime number\n",
      "163 is a prime number\n",
      "167 is a prime number\n",
      "173 is a prime number\n",
      "179 is a prime number\n",
      "181 is a prime number\n",
      "191 is a prime number\n",
      "193 is a prime number\n",
      "197 is a prime number\n",
      "199 is a prime number\n",
      "211 is a prime number\n",
      "223 is a prime number\n",
      "227 is a prime number\n",
      "229 is a prime number\n",
      "233 is a prime number\n",
      "239 is a prime number\n",
      "241 is a prime number\n",
      "251 is a prime number\n",
      "257 is a prime number\n",
      "263 is a prime number\n",
      "269 is a prime number\n",
      "271 is a prime number\n",
      "277 is a prime number\n",
      "281 is a prime number\n",
      "283 is a prime number\n",
      "293 is a prime number\n",
      "307 is a prime number\n",
      "311 is a prime number\n",
      "313 is a prime number\n",
      "317 is a prime number\n",
      "331 is a prime number\n",
      "337 is a prime number\n",
      "347 is a prime number\n",
      "349 is a prime number\n",
      "353 is a prime number\n",
      "359 is a prime number\n",
      "367 is a prime number\n",
      "373 is a prime number\n",
      "379 is a prime number\n",
      "383 is a prime number\n",
      "389 is a prime number\n",
      "397 is a prime number\n",
      "401 is a prime number\n",
      "409 is a prime number\n",
      "419 is a prime number\n",
      "421 is a prime number\n",
      "431 is a prime number\n",
      "433 is a prime number\n",
      "439 is a prime number\n",
      "443 is a prime number\n",
      "449 is a prime number\n",
      "457 is a prime number\n",
      "461 is a prime number\n",
      "463 is a prime number\n",
      "467 is a prime number\n",
      "479 is a prime number\n",
      "487 is a prime number\n",
      "491 is a prime number\n",
      "499 is a prime number\n",
      "503 is a prime number\n",
      "509 is a prime number\n",
      "521 is a prime number\n",
      "523 is a prime number\n",
      "541 is a prime number\n",
      "547 is a prime number\n",
      "557 is a prime number\n",
      "563 is a prime number\n",
      "569 is a prime number\n",
      "571 is a prime number\n",
      "577 is a prime number\n",
      "587 is a prime number\n",
      "593 is a prime number\n",
      "599 is a prime number\n",
      "601 is a prime number\n",
      "607 is a prime number\n",
      "613 is a prime number\n",
      "617 is a prime number\n",
      "619 is a prime number\n",
      "631 is a prime number\n",
      "641 is a prime number\n",
      "643 is a prime number\n",
      "647 is a prime number\n",
      "653 is a prime number\n",
      "659 is a prime number\n",
      "661 is a prime number\n",
      "673 is a prime number\n",
      "677 is a prime number\n",
      "683 is a prime number\n",
      "691 is a prime number\n",
      "701 is a prime number\n",
      "709 is a prime number\n",
      "719 is a prime number\n",
      "727 is a prime number\n",
      "733 is a prime number\n",
      "739 is a prime number\n",
      "743 is a prime number\n",
      "751 is a prime number\n",
      "757 is a prime number\n",
      "761 is a prime number\n",
      "769 is a prime number\n",
      "773 is a prime number\n",
      "787 is a prime number\n",
      "797 is a prime number\n",
      "809 is a prime number\n",
      "811 is a prime number\n",
      "821 is a prime number\n",
      "823 is a prime number\n",
      "827 is a prime number\n",
      "829 is a prime number\n",
      "839 is a prime number\n",
      "853 is a prime number\n",
      "857 is a prime number\n",
      "859 is a prime number\n",
      "863 is a prime number\n",
      "877 is a prime number\n",
      "881 is a prime number\n",
      "883 is a prime number\n",
      "887 is a prime number\n",
      "907 is a prime number\n",
      "911 is a prime number\n",
      "919 is a prime number\n",
      "929 is a prime number\n",
      "937 is a prime number\n",
      "941 is a prime number\n",
      "947 is a prime number\n",
      "953 is a prime number\n",
      "967 is a prime number\n",
      "971 is a prime number\n",
      "977 is a prime number\n",
      "983 is a prime number\n",
      "991 is a prime number\n",
      "997 is a prime number\n"
     ]
    }
   ],
   "source": [
    "for num in range(1, 1001):\n",
    "    for i in range(2, num):\n",
    "        if num % i == 0:\n",
    "            break\n",
    "    else:\n",
    "        print (num, 'is a prime number')\n",
    "        "
   ]
  },
  {
   "cell_type": "code",
   "execution_count": 33,
   "id": "0d3813d4-f933-4882-99ab-1dd6b36708a5",
   "metadata": {},
   "outputs": [],
   "source": [
    "#q-8"
   ]
  },
  {
   "cell_type": "code",
   "execution_count": 35,
   "id": "86ee35e4-4c9e-47d0-93ae-48370354cf41",
   "metadata": {},
   "outputs": [
    {
     "name": "stdin",
     "output_type": "stream",
     "text": [
      "Enter the number:  787\n"
     ]
    },
    {
     "name": "stdout",
     "output_type": "stream",
     "text": [
      "The reverse number is:  787\n",
      "The number is a palindrome\n"
     ]
    }
   ],
   "source": [
    "number = int(input(\"Enter the number: \"))\n",
    "temp = number\n",
    "reverse =0\n",
    " \n",
    "while (number > 0):\n",
    "    dig = number % 10\n",
    "    reverse = reverse * 10 + dig\n",
    "    number = number // 10\n",
    " \n",
    "print(\"The reverse number is: \", reverse)\n",
    " \n",
    "if temp==reverse:\n",
    "    print(\"The number is a palindrome\")\n",
    "else:\n",
    "    print(\"The number is not a palindrome\")    "
   ]
  },
  {
   "cell_type": "code",
   "execution_count": 36,
   "id": "aba4f250-a0c0-47ae-8c72-6a8e485f3c48",
   "metadata": {},
   "outputs": [],
   "source": [
    "#q9"
   ]
  },
  {
   "cell_type": "code",
   "execution_count": 38,
   "id": "89b0a466-a684-40df-9190-fffa06ab3aa9",
   "metadata": {},
   "outputs": [
    {
     "name": "stdout",
     "output_type": "stream",
     "text": [
      "[1, 3, 5, 7, 9, 11, 13, 15, 17, 19, 21, 23, 25, 27, 29, 31, 33, 35, 37, 39, 41, 43, 45, 47, 49, 51, 53, 55, 57, 59, 61, 63, 65, 67, 69, 71, 73, 75, 77, 79, 81, 83, 85, 87, 89, 91, 93, 95, 97, 99]\n"
     ]
    }
   ],
   "source": [
    "odd_list = [element for element in range(1, 101) if element % 2 == 1 ]\n",
    "print(odd_list)"
   ]
  },
  {
   "cell_type": "code",
   "execution_count": null,
   "id": "70f717d7-7133-40a1-b210-264893cc2f64",
   "metadata": {},
   "outputs": [],
   "source": []
  }
 ],
 "metadata": {
  "kernelspec": {
   "display_name": "Python 3 (ipykernel)",
   "language": "python",
   "name": "python3"
  },
  "language_info": {
   "codemirror_mode": {
    "name": "ipython",
    "version": 3
   },
   "file_extension": ".py",
   "mimetype": "text/x-python",
   "name": "python",
   "nbconvert_exporter": "python",
   "pygments_lexer": "ipython3",
   "version": "3.10.8"
  }
 },
 "nbformat": 4,
 "nbformat_minor": 5
}

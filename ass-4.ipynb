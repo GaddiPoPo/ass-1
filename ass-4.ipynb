{
 "cells": [
  {
   "cell_type": "code",
   "execution_count": 1,
   "id": "23be0e8e-c8cf-4f53-bbb3-0460af128b9c",
   "metadata": {},
   "outputs": [],
   "source": [
    "# Q1. Explain Class and Object with respect to Object-Oriented Programming. Give a suitable example."
   ]
  },
  {
   "cell_type": "code",
   "execution_count": 2,
   "id": "8609ce40-5e46-4e18-872a-c8947b0511a1",
   "metadata": {},
   "outputs": [],
   "source": [
    "# Class is a collection of similar type of objects Object is a real life entity or the instance of class\n",
    "# So here for example fruit is a class and objects are banana,apple,mango,grapes,etc.\n"
   ]
  },
  {
   "cell_type": "code",
   "execution_count": 3,
   "id": "529c7dd6-3633-40b6-8ec0-4dcffbf55c2d",
   "metadata": {},
   "outputs": [],
   "source": [
    "#q-2 Name the four pillars of OOPs. "
   ]
  },
  {
   "cell_type": "code",
   "execution_count": 4,
   "id": "c4d348ff-02b8-405e-904e-f7197c6fa5ee",
   "metadata": {},
   "outputs": [],
   "source": [
    "# Inheritance\n",
    "# Encapsulation\n",
    "# Abstraction\n",
    "# polymorphism\n",
    "# class and objects"
   ]
  },
  {
   "cell_type": "code",
   "execution_count": 5,
   "id": "7860cc7b-d892-4227-aa8e-3a7d415ab6a5",
   "metadata": {},
   "outputs": [],
   "source": [
    "#q-3  Explain why the __init__() function is used. Give a suitable example. "
   ]
  },
  {
   "cell_type": "code",
   "execution_count": 6,
   "id": "38a382a4-1f65-4ff6-9eb3-355923aa572e",
   "metadata": {},
   "outputs": [],
   "source": [
    "# The __init__ method is the Python equivalent of the c++ constructor in an object-oriented approach. The __init__  function is called every time an object is created from a class\n"
   ]
  },
  {
   "cell_type": "code",
   "execution_count": 7,
   "id": "1399a186-fada-4fea-a757-14fc2bfc91d2",
   "metadata": {},
   "outputs": [],
   "source": [
    "#q-4"
   ]
  },
  {
   "cell_type": "code",
   "execution_count": 8,
   "id": "ef347315-b855-4d2d-a4ed-a64711899dee",
   "metadata": {},
   "outputs": [],
   "source": [
    "# Q4. Why self is used in OOPs? \n",
    "# The self variable is used to represent the instance of the class which is often used in object-oriented programming. It works as a reference to the object. Python uses the self parameter to refer to instance attributes and methods of the class."
   ]
  },
  {
   "cell_type": "code",
   "execution_count": 9,
   "id": "0b2ca454-495c-4fb2-a7e7-83336c774484",
   "metadata": {},
   "outputs": [],
   "source": [
    "#q-5"
   ]
  },
  {
   "cell_type": "code",
   "execution_count": 11,
   "id": "7c6af27e-15f6-403b-a728-f55fa4f38045",
   "metadata": {},
   "outputs": [],
   "source": [
    "# What is inheritance? Give an example for each type of inheritance. \n"
   ]
  },
  {
   "cell_type": "code",
   "execution_count": 12,
   "id": "9f01c06f-f2aa-4b90-bdf0-9964e7575c57",
   "metadata": {},
   "outputs": [],
   "source": [
    "# In Python, inheritance is a way to create a new class that is a modified version of an existing class. To define a new class that inherits from an existing class, you simply specify the existing class in parentheses after the new class name. Here are some examples of different types of inheritance in Python:"
   ]
  },
  {
   "cell_type": "code",
   "execution_count": 13,
   "id": "78d7f778-ddf9-47b8-8377-b0c34641178a",
   "metadata": {},
   "outputs": [
    {
     "name": "stdout",
     "output_type": "stream",
     "text": [
      "This animal is eating.\n",
      "Meow!\n"
     ]
    }
   ],
   "source": [
    "#single inheritance\n",
    "class Animal:\n",
    "    def eat(self):\n",
    "        print(\"This animal is eating.\")\n",
    "\n",
    "class Cat(Animal):\n",
    "    def meow(self):\n",
    "        print(\"Meow!\")\n",
    "        \n",
    "# The Cat class inherits from the Animal class\n",
    "# and has access to the eat method\n",
    "my_cat = Cat()\n",
    "my_cat.eat()  # prints \"This animal is eating.\"\n",
    "my_cat.meow()  # prints \"Meow!\""
   ]
  },
  {
   "cell_type": "code",
   "execution_count": 14,
   "id": "b2dc27a3-a3db-45e1-b13e-b24a94d8c56f",
   "metadata": {},
   "outputs": [
    {
     "name": "stdout",
     "output_type": "stream",
     "text": [
      "This bird is flying.\n",
      "This mammal is running.\n",
      "Screech!\n"
     ]
    }
   ],
   "source": [
    "# multiple inheeritance\n",
    "class Bird:\n",
    "    def fly(self):\n",
    "        print(\"This bird is flying.\")\n",
    "\n",
    "class Mammal:\n",
    "    def run(self):\n",
    "        print(\"This mammal is running.\")\n",
    "\n",
    "class Bat(Bird, Mammal):\n",
    "    def screech(self):\n",
    "        print(\"Screech!\")\n",
    "        \n",
    "# The Bat class inherits from both the Bird and Mammal classes\n",
    "# and has access to the fly and run methods\n",
    "my_bat = Bat()\n",
    "my_bat.fly()  # prints \"This bird is flying.\"\n",
    "my_bat.run()  # prints \"This mammal is running.\"\n",
    "my_bat.screech()  # prints \"Screech!\""
   ]
  },
  {
   "cell_type": "code",
   "execution_count": 15,
   "id": "1a4c2b0b-2c67-4f68-8209-50f90bbc899f",
   "metadata": {},
   "outputs": [],
   "source": [
    "# multilevel inheritance"
   ]
  },
  {
   "cell_type": "code",
   "execution_count": 16,
   "id": "2d418eef-dda5-40d0-bff3-9ba9af967bb6",
   "metadata": {},
   "outputs": [
    {
     "name": "stdout",
     "output_type": "stream",
     "text": [
      "This vehicle is starting.\n",
      "This car is driving.\n",
      "This sports car is racing.\n"
     ]
    }
   ],
   "source": [
    "class Vehicle:\n",
    "    def start(self):\n",
    "        print(\"This vehicle is starting.\")\n",
    "\n",
    "class Car(Vehicle):\n",
    "    def drive(self):\n",
    "        print(\"This car is driving.\")\n",
    "\n",
    "class SportsCar(Car):\n",
    "    def race(self):\n",
    "        print(\"This sports car is racing.\")\n",
    "        \n",
    "# The SportsCar class inherits from both the Car and Vehicle classes\n",
    "# and has access to the start and drive methods\n",
    "my_sports_car = SportsCar()\n",
    "my_sports_car.start()  # prints \"This vehicle is starting.\"\n",
    "my_sports_car.drive()  # prints \"This car is driving.\"\n",
    "my_sports_car.race()  # prints \"This sports car is racing.\"\n"
   ]
  },
  {
   "cell_type": "code",
   "execution_count": 17,
   "id": "c2f7d105-0a56-4002-b9f6-88efe5bdd164",
   "metadata": {},
   "outputs": [],
   "source": [
    "#Hierarchical inheritance"
   ]
  },
  {
   "cell_type": "code",
   "execution_count": 18,
   "id": "d4efce65-ffb2-4386-aa3e-0799387b0cb9",
   "metadata": {},
   "outputs": [
    {
     "name": "stdout",
     "output_type": "stream",
     "text": [
      "This shape is being drawn.\n",
      "The area of this circle is being calculated.\n",
      "This shape is being drawn.\n",
      "The area of this square is being calculated.\n"
     ]
    }
   ],
   "source": [
    "class Shape:\n",
    "    def draw(self):\n",
    "        print(\"This shape is being drawn.\")\n",
    "\n",
    "class Circle(Shape):\n",
    "    def calculate_area(self):\n",
    "        print(\"The area of this circle is being calculated.\")\n",
    "\n",
    "class Square(Shape):\n",
    "    def calculate_area(self):\n",
    "        print(\"The area of this square is being calculated.\")\n",
    "        \n",
    "# Both the Circle and Square classes inherit from the Shape class\n",
    "# and have access to the draw method, but each has its own implementation\n",
    "my_circle = Circle()\n",
    "my_circle.draw()  # prints \"This shape is being drawn.\"\n",
    "my_circle.calculate_area()  # prints \"The area of this circle is being calculated.\"\n",
    "\n",
    "my_square = Square()\n",
    "my_square.draw()  # prints \"This shape is being drawn.\"\n",
    "my_square.calculate_area()  # prints \"The area of this square is being calculated.\"\n"
   ]
  },
  {
   "cell_type": "code",
   "execution_count": null,
   "id": "89fd03c1-5e3f-4e6f-9b26-c178176590b8",
   "metadata": {},
   "outputs": [],
   "source": [
    "#Hybrid inheritance"
   ]
  }
 ],
 "metadata": {
  "kernelspec": {
   "display_name": "Python 3 (ipykernel)",
   "language": "python",
   "name": "python3"
  },
  "language_info": {
   "codemirror_mode": {
    "name": "ipython",
    "version": 3
   },
   "file_extension": ".py",
   "mimetype": "text/x-python",
   "name": "python",
   "nbconvert_exporter": "python",
   "pygments_lexer": "ipython3",
   "version": "3.10.8"
  }
 },
 "nbformat": 4,
 "nbformat_minor": 5
}
